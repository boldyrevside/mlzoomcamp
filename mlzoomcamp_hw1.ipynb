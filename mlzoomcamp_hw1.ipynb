{
 "cells": [
  {
   "cell_type": "code",
   "execution_count": 3,
   "id": "4246135d-69eb-4ab1-b286-6dbe3451118a",
   "metadata": {},
   "outputs": [],
   "source": [
    "import pandas as pd\n",
    "import os"
   ]
  },
  {
   "cell_type": "markdown",
   "id": "9bf333e1-5963-48e1-b747-5d6c0b9a2986",
   "metadata": {},
   "source": [
    "## Q1. Downloading the data"
   ]
  },
  {
   "cell_type": "code",
   "execution_count": 9,
   "id": "6aad1e2b-06a3-46e4-b20d-a46dfcb4e951",
   "metadata": {},
   "outputs": [],
   "source": [
    "jan = pd.read_parquet(\"C:/Users/boldy/Downloads/yellow_tripdata_2022-01.parquet\")"
   ]
  },
  {
   "cell_type": "code",
   "execution_count": 14,
   "id": "a778529b-0856-4606-82c3-8dbf69072ebb",
   "metadata": {},
   "outputs": [
    {
     "data": {
      "text/plain": [
       "Index(['VendorID', 'tpep_pickup_datetime', 'tpep_dropoff_datetime',\n",
       "       'passenger_count', 'trip_distance', 'RatecodeID', 'store_and_fwd_flag',\n",
       "       'PULocationID', 'DOLocationID', 'payment_type', 'fare_amount', 'extra',\n",
       "       'mta_tax', 'tip_amount', 'tolls_amount', 'improvement_surcharge',\n",
       "       'total_amount', 'congestion_surcharge', 'airport_fee'],\n",
       "      dtype='object')"
      ]
     },
     "execution_count": 14,
     "metadata": {},
     "output_type": "execute_result"
    }
   ],
   "source": [
    "jan.columns"
   ]
  },
  {
   "cell_type": "code",
   "execution_count": 12,
   "id": "2850c1b4-1f8f-4605-aec3-7133c2bb7a9c",
   "metadata": {},
   "outputs": [
    {
     "data": {
      "text/plain": [
       "(2463931, 19)"
      ]
     },
     "execution_count": 12,
     "metadata": {},
     "output_type": "execute_result"
    }
   ],
   "source": [
    "jan.shape"
   ]
  },
  {
   "cell_type": "markdown",
   "id": "18bcf670-f335-472f-af4f-c3b41caa0395",
   "metadata": {},
   "source": [
    "## Q2. Computing duration"
   ]
  },
  {
   "cell_type": "code",
   "execution_count": 27,
   "id": "b7952d55-abe7-4ad4-8cd2-93b03ead3399",
   "metadata": {},
   "outputs": [],
   "source": [
    "jan['duration'] = pd.to_datetime(jan['tpep_dropoff_datetime']) - pd.to_datetime(jan['tpep_pickup_datetime']) \n",
    "jan['duration_min'] = jan['duration'].apply(lambda td: td.total_seconds() / 60)"
   ]
  },
  {
   "cell_type": "code",
   "execution_count": 28,
   "id": "c8a1b291-18db-492d-b2c4-1b0f282d8e90",
   "metadata": {},
   "outputs": [
    {
     "data": {
      "text/plain": [
       "46.44530513776802"
      ]
     },
     "execution_count": 28,
     "metadata": {},
     "output_type": "execute_result"
    }
   ],
   "source": [
    "jan['duration_min'].std()"
   ]
  },
  {
   "cell_type": "markdown",
   "id": "310d7ccc-483e-47a0-b5b3-29f2463cfe56",
   "metadata": {},
   "source": [
    "## Q3. Dropping outliers"
   ]
  },
  {
   "cell_type": "code",
   "execution_count": 30,
   "id": "04bf616c-1d4a-4804-8fbc-451daecbe96d",
   "metadata": {},
   "outputs": [
    {
     "data": {
      "text/plain": [
       "0.9827547930522406"
      ]
     },
     "execution_count": 30,
     "metadata": {},
     "output_type": "execute_result"
    }
   ],
   "source": [
    "((jan['duration_min'] >= 1) & (jan['duration_min'] <= 60)).mean()"
   ]
  },
  {
   "cell_type": "code",
   "execution_count": 31,
   "id": "b731a1b0-e3ed-4e31-b7fc-48750e2655e0",
   "metadata": {},
   "outputs": [],
   "source": [
    "jan_no_out = jan[(jan['duration_min'] >= 1) & (jan['duration_min'] <= 60)]"
   ]
  },
  {
   "cell_type": "markdown",
   "id": "c71cd28a-5004-4e8a-a34e-9320d3957b64",
   "metadata": {},
   "source": [
    "## Q4. One-hot encoding"
   ]
  },
  {
   "cell_type": "code",
   "execution_count": 84,
   "id": "e4d49d25-f1b1-4125-8392-cb62bd279262",
   "metadata": {},
   "outputs": [],
   "source": [
    "train_dict = jan_no_out[[\"PULocationID\", \"DOLocationID\"]].astype(str).to_dict(orient=\"records\")\n",
    "#train_dict"
   ]
  },
  {
   "cell_type": "code",
   "execution_count": 41,
   "id": "d443ef97-7e82-4ae5-ae62-b1e6286a6c37",
   "metadata": {},
   "outputs": [],
   "source": [
    "from sklearn.feature_extraction import DictVectorizer"
   ]
  },
  {
   "cell_type": "code",
   "execution_count": 97,
   "id": "10da4f52-5010-4c02-bde7-2463d1a45087",
   "metadata": {},
   "outputs": [],
   "source": [
    "dv = DictVectorizer()\n",
    "X = dv.fit_transform(train_dict)"
   ]
  },
  {
   "cell_type": "code",
   "execution_count": 86,
   "id": "cc869210-5f6d-46e3-8b38-bab58a726704",
   "metadata": {},
   "outputs": [
    {
     "data": {
      "text/plain": [
       "<2421440x515 sparse matrix of type '<class 'numpy.float64'>'\n",
       "\twith 4842880 stored elements in Compressed Sparse Row format>"
      ]
     },
     "execution_count": 86,
     "metadata": {},
     "output_type": "execute_result"
    }
   ],
   "source": [
    "X"
   ]
  },
  {
   "cell_type": "markdown",
   "id": "7f637e55-c4f0-49d8-b94b-b5a171559bd4",
   "metadata": {},
   "source": [
    "## Q5. Training a model"
   ]
  },
  {
   "cell_type": "code",
   "execution_count": 67,
   "id": "790238e6-daf9-44ae-af7e-a9a356426d8f",
   "metadata": {},
   "outputs": [],
   "source": [
    "y = jan_no_out[\"duration_min\"].values"
   ]
  },
  {
   "cell_type": "code",
   "execution_count": 56,
   "id": "c27906af-f652-49fc-a642-068218f2105b",
   "metadata": {},
   "outputs": [],
   "source": [
    "from sklearn.linear_model import LinearRegression"
   ]
  },
  {
   "cell_type": "code",
   "execution_count": 87,
   "id": "807c5fcb-bce8-46c7-9a7a-70c950cc392e",
   "metadata": {},
   "outputs": [
    {
     "data": {
      "text/html": [
       "<style>#sk-container-id-3 {color: black;background-color: white;}#sk-container-id-3 pre{padding: 0;}#sk-container-id-3 div.sk-toggleable {background-color: white;}#sk-container-id-3 label.sk-toggleable__label {cursor: pointer;display: block;width: 100%;margin-bottom: 0;padding: 0.3em;box-sizing: border-box;text-align: center;}#sk-container-id-3 label.sk-toggleable__label-arrow:before {content: \"▸\";float: left;margin-right: 0.25em;color: #696969;}#sk-container-id-3 label.sk-toggleable__label-arrow:hover:before {color: black;}#sk-container-id-3 div.sk-estimator:hover label.sk-toggleable__label-arrow:before {color: black;}#sk-container-id-3 div.sk-toggleable__content {max-height: 0;max-width: 0;overflow: hidden;text-align: left;background-color: #f0f8ff;}#sk-container-id-3 div.sk-toggleable__content pre {margin: 0.2em;color: black;border-radius: 0.25em;background-color: #f0f8ff;}#sk-container-id-3 input.sk-toggleable__control:checked~div.sk-toggleable__content {max-height: 200px;max-width: 100%;overflow: auto;}#sk-container-id-3 input.sk-toggleable__control:checked~label.sk-toggleable__label-arrow:before {content: \"▾\";}#sk-container-id-3 div.sk-estimator input.sk-toggleable__control:checked~label.sk-toggleable__label {background-color: #d4ebff;}#sk-container-id-3 div.sk-label input.sk-toggleable__control:checked~label.sk-toggleable__label {background-color: #d4ebff;}#sk-container-id-3 input.sk-hidden--visually {border: 0;clip: rect(1px 1px 1px 1px);clip: rect(1px, 1px, 1px, 1px);height: 1px;margin: -1px;overflow: hidden;padding: 0;position: absolute;width: 1px;}#sk-container-id-3 div.sk-estimator {font-family: monospace;background-color: #f0f8ff;border: 1px dotted black;border-radius: 0.25em;box-sizing: border-box;margin-bottom: 0.5em;}#sk-container-id-3 div.sk-estimator:hover {background-color: #d4ebff;}#sk-container-id-3 div.sk-parallel-item::after {content: \"\";width: 100%;border-bottom: 1px solid gray;flex-grow: 1;}#sk-container-id-3 div.sk-label:hover label.sk-toggleable__label {background-color: #d4ebff;}#sk-container-id-3 div.sk-serial::before {content: \"\";position: absolute;border-left: 1px solid gray;box-sizing: border-box;top: 0;bottom: 0;left: 50%;z-index: 0;}#sk-container-id-3 div.sk-serial {display: flex;flex-direction: column;align-items: center;background-color: white;padding-right: 0.2em;padding-left: 0.2em;position: relative;}#sk-container-id-3 div.sk-item {position: relative;z-index: 1;}#sk-container-id-3 div.sk-parallel {display: flex;align-items: stretch;justify-content: center;background-color: white;position: relative;}#sk-container-id-3 div.sk-item::before, #sk-container-id-3 div.sk-parallel-item::before {content: \"\";position: absolute;border-left: 1px solid gray;box-sizing: border-box;top: 0;bottom: 0;left: 50%;z-index: -1;}#sk-container-id-3 div.sk-parallel-item {display: flex;flex-direction: column;z-index: 1;position: relative;background-color: white;}#sk-container-id-3 div.sk-parallel-item:first-child::after {align-self: flex-end;width: 50%;}#sk-container-id-3 div.sk-parallel-item:last-child::after {align-self: flex-start;width: 50%;}#sk-container-id-3 div.sk-parallel-item:only-child::after {width: 0;}#sk-container-id-3 div.sk-dashed-wrapped {border: 1px dashed gray;margin: 0 0.4em 0.5em 0.4em;box-sizing: border-box;padding-bottom: 0.4em;background-color: white;}#sk-container-id-3 div.sk-label label {font-family: monospace;font-weight: bold;display: inline-block;line-height: 1.2em;}#sk-container-id-3 div.sk-label-container {text-align: center;}#sk-container-id-3 div.sk-container {/* jupyter's `normalize.less` sets `[hidden] { display: none; }` but bootstrap.min.css set `[hidden] { display: none !important; }` so we also need the `!important` here to be able to override the default hidden behavior on the sphinx rendered scikit-learn.org. See: https://github.com/scikit-learn/scikit-learn/issues/21755 */display: inline-block !important;position: relative;}#sk-container-id-3 div.sk-text-repr-fallback {display: none;}</style><div id=\"sk-container-id-3\" class=\"sk-top-container\"><div class=\"sk-text-repr-fallback\"><pre>LinearRegression()</pre><b>In a Jupyter environment, please rerun this cell to show the HTML representation or trust the notebook. <br />On GitHub, the HTML representation is unable to render, please try loading this page with nbviewer.org.</b></div><div class=\"sk-container\" hidden><div class=\"sk-item\"><div class=\"sk-estimator sk-toggleable\"><input class=\"sk-toggleable__control sk-hidden--visually\" id=\"sk-estimator-id-3\" type=\"checkbox\" checked><label for=\"sk-estimator-id-3\" class=\"sk-toggleable__label sk-toggleable__label-arrow\">LinearRegression</label><div class=\"sk-toggleable__content\"><pre>LinearRegression()</pre></div></div></div></div></div>"
      ],
      "text/plain": [
       "LinearRegression()"
      ]
     },
     "execution_count": 87,
     "metadata": {},
     "output_type": "execute_result"
    }
   ],
   "source": [
    "lm = LinearRegression()\n",
    "lm.fit(X, y)"
   ]
  },
  {
   "cell_type": "code",
   "execution_count": 88,
   "id": "8007b9bf-bc47-4b38-af5d-34553c7b506b",
   "metadata": {},
   "outputs": [
    {
     "data": {
      "text/plain": [
       "array([ 9.45450433, 16.13442829, 13.81654061, ..., 10.61549065,\n",
       "       10.29014437, 26.61826112])"
      ]
     },
     "execution_count": 88,
     "metadata": {},
     "output_type": "execute_result"
    }
   ],
   "source": [
    "pred = lm.predict(X)\n",
    "pred"
   ]
  },
  {
   "cell_type": "code",
   "execution_count": 61,
   "id": "9be92731-453c-41eb-9ae0-9583538c0a31",
   "metadata": {},
   "outputs": [],
   "source": [
    "from sklearn.metrics import mean_squared_error"
   ]
  },
  {
   "cell_type": "code",
   "execution_count": 89,
   "id": "d81860b3-c343-4065-8424-94744b31f2b8",
   "metadata": {},
   "outputs": [
    {
     "data": {
      "text/plain": [
       "6.986190837370544"
      ]
     },
     "execution_count": 89,
     "metadata": {},
     "output_type": "execute_result"
    }
   ],
   "source": [
    "mean_squared_error(y, pred, squared=False)"
   ]
  },
  {
   "cell_type": "markdown",
   "id": "d46a114a-02d0-4bc6-930d-1aa13fce363f",
   "metadata": {},
   "source": [
    "## Q6. Evaluating the model"
   ]
  },
  {
   "cell_type": "code",
   "execution_count": 90,
   "id": "4ce4e8ae-3663-4b98-8720-c4285f06cbac",
   "metadata": {},
   "outputs": [],
   "source": [
    "feb = pd.read_parquet(\"C:/Users/boldy/Downloads/yellow_tripdata_2022-02.parquet\")"
   ]
  },
  {
   "cell_type": "code",
   "execution_count": 92,
   "id": "344cc38a-b412-4d56-bd41-51ed75b567ac",
   "metadata": {},
   "outputs": [],
   "source": [
    "feb['duration'] = pd.to_datetime(feb['tpep_dropoff_datetime']) - pd.to_datetime(feb['tpep_pickup_datetime']) \n",
    "feb['duration_min'] = feb['duration'].apply(lambda td: td.total_seconds() / 60)\n",
    "feb_no_out = feb[(feb['duration_min'] >= 1) & (feb['duration_min'] <= 60)]"
   ]
  },
  {
   "cell_type": "code",
   "execution_count": 93,
   "id": "ca18c57c-5e71-4978-964c-c5286042a103",
   "metadata": {},
   "outputs": [],
   "source": [
    "feb_dict = feb_no_out[[\"PULocationID\", \"DOLocationID\"]].astype(str).to_dict(orient=\"records\")"
   ]
  },
  {
   "cell_type": "code",
   "execution_count": 98,
   "id": "f8e2c35a-0905-4ed7-a250-991ad2526c15",
   "metadata": {},
   "outputs": [],
   "source": [
    "X_val = dv.transform(feb_dict)"
   ]
  },
  {
   "cell_type": "code",
   "execution_count": 99,
   "id": "1d7312b1-12f5-4ecd-a64b-6105ce9d7447",
   "metadata": {},
   "outputs": [],
   "source": [
    "y_val = feb_no_out['duration_min'].values"
   ]
  },
  {
   "cell_type": "code",
   "execution_count": 100,
   "id": "eafbef58-e1fa-4eac-b5d3-6ed39ebbeff4",
   "metadata": {},
   "outputs": [],
   "source": [
    "pred_val = lm.predict(X_val)"
   ]
  },
  {
   "cell_type": "code",
   "execution_count": 101,
   "id": "2901229e-cb98-41e2-99b1-3218b6a9d193",
   "metadata": {},
   "outputs": [
    {
     "data": {
      "text/plain": [
       "7.786409085078911"
      ]
     },
     "execution_count": 101,
     "metadata": {},
     "output_type": "execute_result"
    }
   ],
   "source": [
    "mean_squared_error(y_val, pred_val, squared=False)"
   ]
  }
 ],
 "metadata": {
  "kernelspec": {
   "display_name": "Python 3 (ipykernel)",
   "language": "python",
   "name": "python3"
  },
  "language_info": {
   "codemirror_mode": {
    "name": "ipython",
    "version": 3
   },
   "file_extension": ".py",
   "mimetype": "text/x-python",
   "name": "python",
   "nbconvert_exporter": "python",
   "pygments_lexer": "ipython3",
   "version": "3.10.6"
  }
 },
 "nbformat": 4,
 "nbformat_minor": 5
}
